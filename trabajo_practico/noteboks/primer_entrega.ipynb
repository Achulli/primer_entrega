{
 "cells": [
  {
   "cell_type": "markdown",
   "metadata": {},
   "source": [
    "# Trabajo Practico - Desarrollo de software para el cálculo de parámetros acústicos ISO 3382 (1er entrega)\n",
    "\n",
    "## Fecha de entrega"
   ]
  },
  {
   "cell_type": "markdown",
   "metadata": {},
   "source": [
    "*Ingresar fecha*"
   ]
  },
  {
   "cell_type": "markdown",
   "metadata": {},
   "source": [
    "## Integrantes"
   ]
  },
  {
   "cell_type": "markdown",
   "metadata": {},
   "source": [
    "* <Nombre, Apellido>\n",
    "* <Nombre, Apellido>\n",
    "* <Nombre, Apellido>"
   ]
  },
  {
   "cell_type": "markdown",
   "metadata": {},
   "source": [
    "## Aspectos generales del notebook\n",
    "\n",
    "* Todas las funciones deben contar con su [docstring](https://realpython.com/documenting-python-code/#docstring-types), como figura en la funcion de ejemplo (`ruidoRosa_voss`).\n",
    "* Todos los gráficos deben tener correctamente etiquetados los ejes.\n",
    "* Enviar el notebook (.ipynb) completado y con las celdas ejecutas a myommi@untref.edu.ar.\n",
    "* Todas las señales de audio deben ser grabadas en formato .wav en la misma función que las genera."
   ]
  },
  {
   "cell_type": "markdown",
   "metadata": {},
   "source": [
    "## Librerias utilizadas\n",
    "Agregar todas las librerias utilizadas, algunas a modo de ejemplo:"
   ]
  },
  {
   "cell_type": "code",
   "execution_count": 1,
   "metadata": {},
   "outputs": [],
   "source": [
    "import soundfile as sf\n",
    "import sounddevice as sd\n",
    "import numpy as np\n",
    "import pandas as pd\n",
    "import matplotlib.pyplot as plt # Importa pyplot de matplotlib"
   ]
  },
  {
   "cell_type": "markdown",
   "metadata": {},
   "source": [
    "## Función de sintetización de ruido rosa\n",
    "El ruido rosa o ruido $\\frac{1}{\\sqrt{f}}$ , dónde $f$ denota frecuencia en Hz, es un ruido con una distribución de frecuencias tal que su densidad espectral de potencia es proporcional a la inversa de la frecuencia. Esto implica que su nivel, por bandas de tercio de octava, es constante. El nivel del ruido rosa por intervalo fijo de frecuencias va decayendo a razón de 3 dB/octava, de forma no lineal aunque las frecuencias se representan en un eje lineal.\n",
    "\n",
    "![Espectro del ruido rosa](../img/image44.png)\n",
    "<center><b>Fig 1.</b> Espectro del ruido rosa.</center>\n",
    "\n",
    "Se adjunta a continuación una función que devuelva un ruido rosa sintetizado a partir del algoritmo de Voss y Clarke (pueden encontrar mas informacion en [este enlace](https://www.dsprelated.com/showabstract/3933.php) y en [este notebook](https://github.com/AllenDowney/ThinkDSP/blob/master/code/voss.ipynb)). \n",
    "\n",
    "**Consigna:** modificar la función original para que reciba como parametro la duración del ruido en segundos $t$ y como parametro opcional la frecuencia de muestreo $fs$ (Ayuda: la longitud de la señal sera el producto entre ambos). La función debe guardar el archivo de audio .wav de la señal generada y devolver el vector de datos de la señal."
   ]
  },
  {
   "cell_type": "code",
   "execution_count": 2,
   "metadata": {},
   "outputs": [],
   "source": [
    "\n",
    "def ruidoRosa_voss(t, fs=44100):\n",
    "    \"\"\"\n",
    "    Genera ruido rosa utilizando el algoritmo de Voss-McCartney(https://www.dsprelated.com/showabstract/3933.php).\n",
    "    \n",
    "    Parametros\n",
    "    ----------\n",
    "    t : float\n",
    "        Valor temporal en segundos, este determina la duración del ruido generado.\n",
    "    fs : int, opcional\n",
    "        Frecuencia de muestreo en Hz de la señal. Por defecto, el valor es 44100 Hz.\n",
    "    \n",
    "    returns: NumPy array\n",
    "        Datos de la señal generada.\n",
    "    \"\"\"\n",
    "    \n",
    "    nrows = int(t * fs)\n",
    "    ncols = 16  # Puedes ajustar el número de columnas según tus necesidades\n",
    "    \n",
    "    array = np.full((nrows, ncols), np.nan)\n",
    "    array[0, :] = np.random.random(ncols)\n",
    "    array[:, 0] = np.random.random(nrows)\n",
    "    \n",
    "    # el numero total de cambios es nrows\n",
    "    n = nrows\n",
    "    cols = np.random.geometric(0.5, n)\n",
    "    cols[cols >= ncols] = 0\n",
    "    rows = np.random.randint(nrows, size=n)\n",
    "    array[rows, cols] = np.random.random(n)\n",
    "    \n",
    "    df = pd.DataFrame(array)\n",
    "    filled = df.fillna(method='ffill', axis=0)\n",
    "    total = filled.sum(axis=1)\n",
    "    \n",
    "    ## Centrado de el array en 0\n",
    "    total = total - total.mean()\n",
    "    \n",
    "    ## Normalizado\n",
    "    valor_max = max(abs(max(total)), abs(min(total)))\n",
    "    total = total / valor_max\n",
    "    \n",
    "    # Generar el archivo de audio .wav\n",
    "    sf.write('ruidoRosa.wav', total, fs)\n",
    "    \n",
    "    return total"
   ]
  },
  {
   "cell_type": "markdown",
   "metadata": {
    "tags": []
   },
   "source": [
    "Llamar la función."
   ]
  },
  {
   "cell_type": "code",
   "execution_count": 3,
   "metadata": {
    "tags": []
   },
   "outputs": [],
   "source": [
    "# completar\n",
    "ruido_rosa = ruidoRosa_voss(t=20, fs=44100)"
   ]
  },
  {
   "cell_type": "markdown",
   "metadata": {
    "tags": []
   },
   "source": [
    "Realizar una función para visualizar el dominio temporal de la señal."
   ]
  },
  {
   "cell_type": "code",
   "execution_count": 4,
   "metadata": {
    "tags": []
   },
   "outputs": [],
   "source": [
    "# completar\n",
    "def visualizar_dominio_temporal(senal, fs):\n",
    "    \"\"\"\n",
    "    Visualiza el dominio temporal de una señal de audio generada.\n",
    "\n",
    "    Parámetros:\n",
    "    senal (array): El vector de datos de la señal en el dominio temporal.\n",
    "    fs (int): Frecuencia de muestreo en Hz de la señal.\n",
    "\n",
    "    \"\"\"\n",
    "    # Calcula el eje de tiempo en segundos\n",
    "    tiempo = np.arange(0, len(senal)) / fs\n",
    "\n",
    "    # Crea una figura y un eje\n",
    "    plt.figure(figsize=(10, 4))\n",
    "    plt.plot(tiempo, senal, color='b')\n",
    "    plt.xlabel('Tiempo (s)')\n",
    "    plt.ylabel('Amplitud')\n",
    "    plt.title('Dominio Temporal de la Señal de Audio Generada')\n",
    "    plt.grid(True)\n",
    "\n",
    "    # Muestra la gráfica\n",
    "    plt.show()"
   ]
  },
  {
   "cell_type": "markdown",
   "metadata": {},
   "source": [
    "Llamar a la función."
   ]
  },
  {
   "cell_type": "code",
   "execution_count": 5,
   "metadata": {},
   "outputs": [
    {
     "data": {
      "image/png": "[encoded data removed]",
      "text/plain": [
       "<Figure size 720x288 with 1 Axes>"
      ]
     },
     "metadata": {
      "needs_background": "light"
     },
     "output_type": "display_data"
    }
   ],
   "source": [
    "# completar\n",
    "visualizar_dominio_temporal(ruido_rosa, fs=44100)"
   ]
  },
  {
   "cell_type": "markdown",
   "metadata": {},
   "source": [
    "Graficar el dominio espectral del resultado utilizando el [software Audacity](https://www.audacityteam.org/) (Ayuda: [Plot Spectrum Audacity](https://manual.audacityteam.org/man/plot_spectrum.html))"
   ]
  },
  {
   "cell_type": "code",
   "execution_count": 43,
   "metadata": {
    "tags": []
   },
   "outputs": [],
   "source": [
    "# completar"
   ]
  },
  {
   "cell_type": "markdown",
   "metadata": {},
   "source": [
    "Reproducir resultado."
   ]
  },
  {
   "cell_type": "code",
   "execution_count": 6,
   "metadata": {
    "tags": []
   },
   "outputs": [],
   "source": [
    "# completar\n",
    "sd.play(ruido_rosa)\n",
    "sd.wait()\n"
   ]
  },
  {
   "cell_type": "markdown",
   "metadata": {},
   "source": [
    "> Solo a modo de comentario, un **método alternativo** es utilizando un filtro en el siguiente [link](https://ccrma.stanford.edu/~jos/sasp/Example_Synthesis_1_F_Noise.html) se presenta la implementación en Matlab/Octave."
   ]
  },
  {
   "cell_type": "markdown",
   "metadata": {},
   "source": [
    "## Funcion de generación de sine sweep logaritmico + filtro inverso\n",
    "El sine sweep es el método más indicado para generar el impulso por medio de la convolución (Nikolić, I., and O. H. Bjor, 2003). Dado que métodos tales como: explosión de globo, aplauso, disparo con pistola se salva, paper gun ([Paper Popper](https://en.wikipedia.org/wiki/Paper_popper)), golpe entre maderas, petardos, entre otros, carecen de reproducibilidad. Esto es debido a su nivel sonoro, duración y características espectrales, además de una muy baja relación señal ruido, la cual difícilmente se solucione filtrando o promediando con muchas mediciones. Comencemos por ver cómo generar el sine sweep logarítmico $x(t)$ que posee la siguiente forma:\n",
    "\n",
    "\\begin{equation}\n",
    "f(x) = \\sin[\\theta(t)]= \\sin[K (e^\\frac{t}{L} - 1) ]\n",
    "\\tag{1}\n",
    "\\end{equation}\n",
    "\n",
    "Donde:\n",
    "\n",
    "\\begin{equation}\n",
    "K = \\frac{T w_{1}}{R}\n",
    "\\end{equation}\n",
    "\n",
    "\\begin{equation}\n",
    "L = \\frac{T}{R}\n",
    "\\end{equation}\n",
    "\n",
    "y el sweep rate $R$: \n",
    "\n",
    "\\begin{equation}\n",
    "R = \\ln \\left( \\frac{w_{2}}{w_{1}} \\right)\n",
    "\\tag{2}\n",
    "\\end{equation}\n",
    "\n",
    "Con $w_{1}$ y $w_{2}$, las frecuencias angulares inferior y superior respectivamente, $T$ es el tiempo de duración del sine sweep en segundos (Meng, Q., 2008). Si estudiamos el espectro de la señal de la ecuación (1), se observa que no es plano, sino que disminuye a razón de -3 dB/octava, como el ruido rosa (Ver fig. 2, sup). De modo que el espectro de $x(-t)$ debe ser ajustado, aumentando en 3 dB/octava, de modo que cuando realizamos el cálculo se restaure la plenitud perfecta de la respuesta de impulso medida $h(t)$ (Farina A., 2000) (Ver fig. 2, inf).\n",
    "\n",
    "![](../img/image43.png)\n",
    "<center><b>Fig 2.</b> Espectro del sine sweep. Sine sweep logarítmico  (sup). Filtro invertido (inf).</center>\n",
    "\n",
    "\n",
    "En el dominio temporal las señales del sine sweep logarítmico y el filtro inverso se comportan de la siguiente manera (Ver fig. 3). \n",
    "\n",
    "![](../img/image46.png)\n",
    "<center><b>Fig 3.</b> Magnitud del sine sweep. Sine sweep logarítmico (sup). Filtro invertido (inf).</center>"
   ]
  },
  {
   "cell_type": "markdown",
   "metadata": {},
   "source": [
    "Para generar el filtro inverso $k(t)$ del sine sweep logarítmico $x(t)$ se requiere de una modulación $m(t)$ definida por la siguiente expresión:\n",
    "\n",
    "\\begin{equation}\n",
    "m(t) = \\frac{w_{1}}{2\\pi w(t)}\n",
    "\\tag{3}\n",
    "\\end{equation}\n",
    "\n",
    "Obtenida de la frecuencia instantánea (dado que la amplitud cambia en función de la\n",
    "frecuencia), calculada a partir de la ecuación (1):\n",
    "\n",
    "\\begin{equation}\n",
    "w(t)=\\frac{d[\\theta (t)]}{dt}=\\frac{K}{L} e^\\frac{t}{L}\n",
    "\\tag{4}\n",
    "\\end{equation}\n",
    "m\n",
    "entonces, el filtro inverso $k(t)$ queda definido como:\n",
    "\n",
    "\\begin{equation}\n",
    "k(t)=m(t)x(-t)\n",
    "\\tag{5}\n",
    "\\end{equation}\n",
    "\n",
    "**Consigna:** realizar una función generadora de un sine sweep y su filtro inverso, a partir de las ecuaciones descriptas anteriormente, y graficar el resultado de ambos filtros, usando la función anteriormente creada. Recordar almacenar los audios. Agregar docstring que indique claramente los parametros de entrada y salida."
   ]
  },
  {
   "cell_type": "code",
   "execution_count": 1,
   "metadata": {
    "tags": []
   },
   "outputs": [],
   "source": [
    "# Completar\n",
    "import numpy as np\n",
    "import matplotlib.pyplot as plt\n",
    "import soundfile as sf\n",
    "import sounddevice as sd\n",
    "\n",
    "def generate_and_plot_sine_sweep(fs, T, w1, w2):\n",
    "    \"\"\"\n",
    "    Genera un sine sweep logarítmico y su filtro inverso, guarda los archivos de audio y grafica los resultados.\n",
    "\n",
    "    Parámetros:\n",
    "    fs (int): Frecuencia de muestreo en Hz.\n",
    "    T (float): Duración del sine sweep en segundos.\n",
    "    w1 (float): Frecuencia angular inicial en radianes por segundo.\n",
    "    w2 (float): Frecuencia angular final en radianes por segundo.\n",
    "    \"\"\"\n",
    "    # Cálculo de K y L\n",
    "    R = np.log(w2 / w1)\n",
    "    K = T * w1 / R\n",
    "    L = T / R\n",
    "\n",
    "    # Generación del sine sweep\n",
    "    t = np.linspace(0, T, int(fs * T), endpoint=False)\n",
    "    x = np.sin(K * (np.exp(t / L) - 1))\n",
    "\n",
    "    # Cálculo de la frecuencia instantánea w(t)\n",
    "    w_t = K / L * np.exp(t / L)\n",
    "\n",
    "    # Cálculo de la modulación m(t)\n",
    "    m_t = w1 / (2 * np.pi * w_t)\n",
    "\n",
    "    # Generación del filtro inverso k(t)\n",
    "    k = m_t * x[::-1]\n",
    "\n",
    "    # Guardar los audios como archivos WAV\n",
    "    sf.write(\"sine_sweep.wav\", x, fs)\n",
    "    sf.write(\"filtro_inverso.wav\", k, fs)\n",
    "\n",
    "    # Graficar el resultado\n",
    "    plt.figure(figsize=(12, 6))\n",
    "    plt.subplot(2, 1, 1)\n",
    "    plt.plot(x)\n",
    "    plt.title(\"Sine Sweep Logarítmico\")\n",
    "    plt.subplot(2, 1, 2)\n",
    "    plt.plot(k)\n",
    "    plt.title(\"Filtro Inverso\")\n",
    "    plt.tight_layout()\n",
    "    plt.show()\n",
    "\n",
    "\n"
   ]
  },
  {
   "cell_type": "markdown",
   "metadata": {
    "tags": []
   },
   "source": [
    "Llamar la función."
   ]
  },
  {
   "cell_type": "code",
   "execution_count": 2,
   "metadata": {
    "tags": []
   },
   "outputs": [
    {
     "data": {
      "image/png": "[encoded data removed]",
      "text/plain": [
       "<Figure size 864x432 with 2 Axes>"
      ]
     },
     "metadata": {
      "needs_background": "light"
     },
     "output_type": "display_data"
    }
   ],
   "source": [
    "# completar\n",
    "if __name__ == \"__main__\":\n",
    "    # Parámetros del sine sweep\n",
    "    fs = 44100  # Frecuencia de muestreo en Hz\n",
    "    T = 5  # Duración del sine sweep en segundos\n",
    "    w1 = 2 * np.pi * 20  # Frecuencia angular inicial en radianes por segundo\n",
    "    w2 = 2 * np.pi * 20000  # Frecuencia angular final en radianes por segundo\n",
    "\n",
    "    # Llamar a la función para generar, guardar y graficar el sine sweep y su filtro inverso\n",
    "    generate_and_plot_sine_sweep(fs, T, w1, w2)"
   ]
  },
  {
   "cell_type": "markdown",
   "metadata": {},
   "source": [
    "Graficar el dominio espectral del resultado utilizando el [software Audacity](https://www.audacityteam.org/) (Ayuda: [Plot Spectrum Audacity](https://manual.audacityteam.org/man/plot_spectrum.html))"
   ]
  },
  {
   "cell_type": "code",
   "execution_count": 43,
   "metadata": {
    "tags": []
   },
   "outputs": [],
   "source": [
    "# completar"
   ]
  },
  {
   "cell_type": "markdown",
   "metadata": {},
   "source": [
    "Reproducir resultados."
   ]
  },
  {
   "cell_type": "code",
   "execution_count": 3,
   "metadata": {
    "tags": []
   },
   "outputs": [],
   "source": [
    "# completar\n",
    "\n",
    "# Nombre de los archivos de audio\n",
    "sine_sweep_file = \"sine_sweep.wav\"\n",
    "filtro_inverso_file = \"filtro_inverso.wav\"\n",
    "\n",
    "# Reproducir el sine sweep\n",
    "sine_sweep, fs = sf.read(sine_sweep_file)\n",
    "sd.play(sine_sweep, fs)\n",
    "sd.wait()  # Esperar a que termine la reproducción\n",
    "\n",
    "# Reproducir el filtro inverso\n",
    "filtro_inverso, fs = sf.read(filtro_inverso_file)\n",
    "sd.play(filtro_inverso, fs)\n",
    "sd.wait()  # Esperar a que termine la reproducción\n"
   ]
  },
  {
   "cell_type": "markdown",
   "metadata": {},
   "source": [
    "## Función adquisicion y reproducción\n",
    "**Consigna**: la función tiene que permitir la reproducción y la adquisición de manera simultánea para un tiempo determinado por el usuario. Es importante evaluar y constatar dicha simultaneidad. El módulo debería permitir seleccionar el hardware a utilizar. Algunos articulos de interes para el desarrollo:\n",
    "* [Clase de audio](../../clases/clase_6/600_audio.ipynb)\n",
    "* [Sound Device - Simultaneous Playback and Recording](https://python-sounddevice.readthedocs.io/en/0.4.1/usage.html#simultaneous-playback-and-recording)\n",
    "* [Playing and Recording Sound in Python](https://realpython.com/playing-and-recording-sound-python/)\n",
    "* [Audio in Python](https://wiki.python.org/moin/Audio/)\n",
    "* [https://github.com/spatialaudio/python-sounddevice/issues/148](https://github.com/spatialaudio/python-sounddevice/issues/148)"
   ]
  },
  {
   "cell_type": "code",
   "execution_count": null,
   "metadata": {
    "tags": []
   },
   "outputs": [
    {
     "ename": "",
     "evalue": "",
     "output_type": "error",
     "traceback": [
      "\u001b[1;31mLa ejecución de celdas con 'Python 3.7.3 64-bit' requieren el paquete ipykernel.\n",
      "\u001b[1;31mEjecute el siguiente comando para instalar 'ipykernel' en el entorno de Python. comando \n",
      "\u001b[1;31m: 'c:/Users/USER/AppData/Local/Programs/Python/Python37/python.exe -m pip install ipykernel -U --user --force-reinstall'"
     ]
    }
   ],
   "source": [
    "# Completar\n",
    "import pyaudio\n",
    "import wave\n",
    "from pydub import AudioSegment\n",
    "from pydub.playback import play\n",
    "\n",
    "def grabar_reproducir_audio(filename, sample_format, channels, fs, seconds, chunk):\n",
    "    def select_audio_device():\n",
    "        p = pyaudio.PyAudio()\n",
    "        devices = p.get_device_count()\n",
    "\n",
    "        print(\"Dispositivos de audio disponibles:\")\n",
    "        for i in range(devices):\n",
    "            device_info = p.get_device_info_by_index(i)\n",
    "            print(f\"{i}: {device_info['name']}\")\n",
    "\n",
    "        selected_device = int(input(\"Selecciona el número del dispositivo de entrada de audio: \"))\n",
    "        return selected_device\n",
    "\n",
    "    p = pyaudio.PyAudio()\n",
    "    \n",
    "    # Seleccionar el dispositivo de audio\n",
    "    input_device_index = select_audio_device()\n",
    "\n",
    "    def grabar_audio(input_device_index):\n",
    "        print('Iniciando grabación')\n",
    "        stream = p.open(format=sample_format,\n",
    "                        channels=channels,\n",
    "                        rate=fs,\n",
    "                        frames_per_buffer=chunk,\n",
    "                        input=True,\n",
    "                        input_device_index=input_device_index)\n",
    "\n",
    "        frames = []\n",
    "\n",
    "        for i in range(0, int(fs / chunk * seconds)):\n",
    "            data = stream.read(chunk)\n",
    "            frames.append(data)\n",
    "\n",
    "        stream.stop_stream()\n",
    "        stream.close()\n",
    "\n",
    "        print('Grabación finalizada')\n",
    "\n",
    "        wf = wave.open(filename, 'wb')\n",
    "        wf.setnchannels(channels)\n",
    "        wf.setsampwidth(p.get_sample_size(sample_format))\n",
    "        wf.setframerate(fs)\n",
    "        wf.writeframes(b''.join(frames))\n",
    "        wf.close()\n",
    "\n",
    "    def reproducir_audio(filename):\n",
    "        audio = AudioSegment.from_file(filename)\n",
    "        play(audio)\n",
    "\n",
    "    # Grabar audio\n",
    "    grabar_audio(input_device_index)\n",
    "\n",
    "    # Reproducir audio\n",
    "    reproducir_audio(filename)"
   ]
  },
  {
   "cell_type": "markdown",
   "metadata": {
    "tags": []
   },
   "source": [
    "Llamar la función."
   ]
  },
  {
   "cell_type": "code",
   "execution_count": null,
   "metadata": {
    "tags": []
   },
   "outputs": [],
   "source": [
    "# completar\n",
    "# Parámetros de configuración\n",
    "chunk = 1024\n",
    "sample_format = pyaudio.paInt16\n",
    "channels = 2\n",
    "fs = 44100\n",
    "seconds = 5\n",
    "filename = \"output.wav\"\n",
    "# Llamar a la función para grabar y reproducir audio\n",
    "grabar_reproducir_audio(filename, sample_format, channels, fs, seconds, chunk)"
   ]
  },
  {
   "cell_type": "markdown",
   "metadata": {},
   "source": [
    "¿Cómo se podría medir la latencia de la función?"
   ]
  },
  {
   "cell_type": "code",
   "execution_count": null,
   "metadata": {},
   "outputs": [],
   "source": [
    "# Completar\n",
    "import time\n",
    "\n",
    "# Registra el tiempo de inicio\n",
    "inicio_grabacion = time.time()\n",
    "\n",
    "# Llamar a la función para grabar y reproducir audio\n",
    "grabar_reproducir_audio(filename, sample_format, channels, fs, seconds, chunk)\n",
    "\n",
    "# Registra el tiempo de finalización\n",
    "fin_reproduccion = time.time()\n",
    "\n",
    "# Calcula la latencia en segundos\n",
    "latencia_segundos = fin_reproduccion - inicio_grabacion\n",
    "\n",
    "# Convierte la latencia a milisegundos\n",
    "latencia_milisegundos = latencia_segundos * 1000\n",
    "\n",
    "print(f'Latencia de la función grabar_reproducir_audio: {latencia_milisegundos} ms')"
   ]
  }
 ],
 "metadata": {
  "kernelspec": {
   "display_name": "Python 3",
   "language": "python",
   "name": "python3"
  },
  "language_info": {
   "codemirror_mode": {
    "name": "ipython",
    "version": 3
   },
   "file_extension": ".py",
   "mimetype": "text/x-python",
   "name": "python",
   "nbconvert_exporter": "python",
   "pygments_lexer": "ipython3",
   "version": "3.7.3"
  },
  "vscode": {
   "interpreter": {
    "hash": "7a32eb4390f9bb72514d0e71928e792c838e00872818ae6da76cc4e20d75f488"
   }
  }
 },
 "nbformat": 4,
 "nbformat_minor": 4
}
